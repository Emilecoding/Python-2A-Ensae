{
 "cells": [
  {
   "cell_type": "code",
   "execution_count": null,
   "id": "985b9dc6-f18c-4e79-9ca1-327fe9ac8b02",
   "metadata": {},
   "outputs": [],
   "source": [
    "## 1. Installation Selenium "
   ]
  },
  {
   "cell_type": "code",
   "execution_count": null,
   "id": "8cf390a6-8102-49a6-939d-c5e000e24f36",
   "metadata": {},
   "outputs": [],
   "source": [
    "## 1.1. On installe les dépendances"
   ]
  },
  {
   "cell_type": "code",
   "execution_count": 2,
   "id": "3dd5d8b6-3a16-4896-841b-545a0de2b4f3",
   "metadata": {},
   "outputs": [
    {
     "name": "stdout",
     "output_type": "stream",
     "text": [
      "--2023-12-27 10:38:27--  https://dl.google.com/linux/direct/google-chrome-stable_current_amd64.deb\n",
      "Resolving dl.google.com (dl.google.com)... 64.233.167.91, 64.233.167.190, 64.233.167.136, ...\n",
      "Connecting to dl.google.com (dl.google.com)|64.233.167.91|:443... connected.\n",
      "HTTP request sent, awaiting response... 200 OK\n",
      "Length: 104953176 (100M) [application/x-debian-package]\n",
      "Saving to: ‘/tmp/chrome.deb’\n",
      "\n",
      "/tmp/chrome.deb     100%[===================>] 100.09M  57.4MB/s    in 1.7s    \n",
      "\n",
      "2023-12-27 10:38:29 (57.4 MB/s) - ‘/tmp/chrome.deb’ saved [104953176/104953176]\n",
      "\n",
      "Get:1 http://security.ubuntu.com/ubuntu jammy-security InRelease [110 kB]\n",
      "Hit:2 https://dl.google.com/linux/chrome/deb stable InRelease                  \n",
      "Hit:3 https://apt.postgresql.org/pub/repos/apt jammy-pgdg InRelease            \n",
      "Hit:4 http://archive.ubuntu.com/ubuntu jammy InRelease                         \n",
      "Get:5 http://archive.ubuntu.com/ubuntu jammy-updates InRelease [119 kB]\n",
      "Hit:6 http://archive.ubuntu.com/ubuntu jammy-backports InRelease\n",
      "Fetched 229 kB in 1s (206 kB/s)\n",
      "Reading package lists... Done\n",
      "W: https://apt.postgresql.org/pub/repos/apt/dists/jammy-pgdg/InRelease: Key is stored in legacy trusted.gpg keyring (/etc/apt/trusted.gpg), see the DEPRECATION section in apt-key(8) for details.\n",
      "Reading package lists... Done\n",
      "Building dependency tree... Done\n",
      "Reading state information... Done\n",
      "Note, selecting 'google-chrome-stable' instead of '/tmp/chrome.deb'\n",
      "google-chrome-stable is already the newest version (120.0.6099.129-1).\n",
      "0 upgraded, 0 newly installed, 0 to remove and 2 not upgraded.\n",
      "Requirement already satisfied: chromedriver-autoinstaller in /opt/mamba/lib/python3.10/site-packages (0.6.3)\n",
      "Requirement already satisfied: selenium in /opt/mamba/lib/python3.10/site-packages (4.16.0)\n",
      "Requirement already satisfied: packaging>=23.1 in /opt/mamba/lib/python3.10/site-packages (from chromedriver-autoinstaller) (23.1)\n",
      "Requirement already satisfied: urllib3<3,>=1.26 in /opt/mamba/lib/python3.10/site-packages (from urllib3[socks]<3,>=1.26->selenium) (1.26.18)\n",
      "Requirement already satisfied: trio~=0.17 in /opt/mamba/lib/python3.10/site-packages (from selenium) (0.23.2)\n",
      "Requirement already satisfied: trio-websocket~=0.9 in /opt/mamba/lib/python3.10/site-packages (from selenium) (0.11.1)\n",
      "Requirement already satisfied: certifi>=2021.10.8 in /opt/mamba/lib/python3.10/site-packages (from selenium) (2023.11.17)\n",
      "Requirement already satisfied: attrs>=20.1.0 in /opt/mamba/lib/python3.10/site-packages (from trio~=0.17->selenium) (23.1.0)\n",
      "Requirement already satisfied: sortedcontainers in /opt/mamba/lib/python3.10/site-packages (from trio~=0.17->selenium) (2.4.0)\n",
      "Requirement already satisfied: idna in /opt/mamba/lib/python3.10/site-packages (from trio~=0.17->selenium) (3.4)\n",
      "Requirement already satisfied: outcome in /opt/mamba/lib/python3.10/site-packages (from trio~=0.17->selenium) (1.3.0.post0)\n",
      "Requirement already satisfied: sniffio>=1.3.0 in /opt/mamba/lib/python3.10/site-packages (from trio~=0.17->selenium) (1.3.0)\n",
      "Requirement already satisfied: exceptiongroup in /opt/mamba/lib/python3.10/site-packages (from trio~=0.17->selenium) (1.2.0)\n",
      "Requirement already satisfied: wsproto>=0.14 in /opt/mamba/lib/python3.10/site-packages (from trio-websocket~=0.9->selenium) (1.2.0)\n",
      "Requirement already satisfied: PySocks!=1.5.7,<2.0,>=1.5.6 in /opt/mamba/lib/python3.10/site-packages (from urllib3[socks]<3,>=1.26->selenium) (1.7.1)\n",
      "Requirement already satisfied: h11<1,>=0.9.0 in /opt/mamba/lib/python3.10/site-packages (from wsproto>=0.14->trio-websocket~=0.9->selenium) (0.14.0)\n"
     ]
    },
    {
     "data": {
      "text/plain": [
       "'/opt/mamba/lib/python3.10/site-packages/chromedriver_autoinstaller/120/chromedriver'"
      ]
     },
     "execution_count": 2,
     "metadata": {},
     "output_type": "execute_result"
    }
   ],
   "source": [
    "!wget https://dl.google.com/linux/direct/google-chrome-stable_current_amd64.deb -O /tmp/chrome.deb\n",
    "!sudo apt-get update\n",
    "!sudo -E apt-get install -y /tmp/chrome.deb\n",
    "!pip install chromedriver-autoinstaller selenium\n",
    "\n",
    "import chromedriver_autoinstaller\n",
    "chromedriver_autoinstaller.install()"
   ]
  },
  {
   "cell_type": "code",
   "execution_count": null,
   "id": "ede94b88-88c2-45a4-b87d-504f1a3a5e5e",
   "metadata": {},
   "outputs": [],
   "source": [
    "## 1.2. On installe Selenium"
   ]
  },
  {
   "cell_type": "code",
   "execution_count": 3,
   "id": "b4835a16-9cb8-4046-a51e-287618d5920e",
   "metadata": {},
   "outputs": [
    {
     "name": "stdout",
     "output_type": "stream",
     "text": [
      "Requirement already satisfied: webdriver-manager in /opt/mamba/lib/python3.10/site-packages (4.0.1)\n",
      "Requirement already satisfied: requests in /opt/mamba/lib/python3.10/site-packages (from webdriver-manager) (2.31.0)\n",
      "Requirement already satisfied: python-dotenv in /opt/mamba/lib/python3.10/site-packages (from webdriver-manager) (1.0.0)\n",
      "Requirement already satisfied: packaging in /opt/mamba/lib/python3.10/site-packages (from webdriver-manager) (23.1)\n",
      "Requirement already satisfied: charset-normalizer<4,>=2 in /opt/mamba/lib/python3.10/site-packages (from requests->webdriver-manager) (3.2.0)\n",
      "Requirement already satisfied: idna<4,>=2.5 in /opt/mamba/lib/python3.10/site-packages (from requests->webdriver-manager) (3.4)\n",
      "Requirement already satisfied: urllib3<3,>=1.21.1 in /opt/mamba/lib/python3.10/site-packages (from requests->webdriver-manager) (1.26.18)\n",
      "Requirement already satisfied: certifi>=2017.4.17 in /opt/mamba/lib/python3.10/site-packages (from requests->webdriver-manager) (2023.11.17)\n"
     ]
    }
   ],
   "source": [
    "!pip install webdriver-manager\n",
    "\n",
    "import selenium\n",
    "from webdriver_manager.chrome import ChromeDriverManager\n",
    "\n",
    "path_to_web_driver = ChromeDriverManager().install()"
   ]
  },
  {
   "cell_type": "code",
   "execution_count": null,
   "id": "e85984b6-cfda-46d3-a89f-ba8449c111c2",
   "metadata": {},
   "outputs": [],
   "source": [
    "## 2. Se rendre sur le site de marmiton"
   ]
  },
  {
   "cell_type": "code",
   "execution_count": null,
   "id": "63cf5f5d-f36e-4e20-97ea-27471eb0bb94",
   "metadata": {},
   "outputs": [],
   "source": [
    "## 2.1. On initialise le navigateur"
   ]
  },
  {
   "cell_type": "code",
   "execution_count": 4,
   "id": "108f8543-4735-433c-821b-09950d7f081e",
   "metadata": {},
   "outputs": [],
   "source": [
    "import time\n",
    "\n",
    "from selenium import webdriver\n",
    "from selenium.webdriver.common.keys import Keys\n",
    "\n",
    "chrome_options = webdriver.ChromeOptions()\n",
    "chrome_options.add_argument('--headless')\n",
    "chrome_options.add_argument('--no-sandbox')\n",
    "chrome_options.add_argument('--disable-dev-shm-usage')\n",
    "#chrome_options.add_argument('--verbose') "
   ]
  },
  {
   "cell_type": "code",
   "execution_count": null,
   "id": "39fcb965-33e5-4f37-9d94-839c7ae65874",
   "metadata": {},
   "outputs": [],
   "source": [
    "## 2.2. On lance le navigateur"
   ]
  },
  {
   "cell_type": "code",
   "execution_count": 5,
   "id": "01ac0df3-6d40-4583-ab3a-92f0c28ab8eb",
   "metadata": {},
   "outputs": [],
   "source": [
    "from selenium.webdriver.chrome.service import Service\n",
    "service = Service(executable_path=path_to_web_driver)\n",
    "\n",
    "browser = webdriver.Chrome(service=service,\n",
    "                           options=chrome_options)"
   ]
  },
  {
   "cell_type": "code",
   "execution_count": null,
   "id": "e384e844-536a-4e2a-9064-ec5abf287cc6",
   "metadata": {},
   "outputs": [],
   "source": [
    "## 2.3. On se rend sur marmiton"
   ]
  },
  {
   "cell_type": "code",
   "execution_count": 31,
   "id": "3473fa98-4d6a-403c-90cc-c8cacc2f827c",
   "metadata": {},
   "outputs": [
    {
     "name": "stdout",
     "output_type": "stream",
     "text": [
      "Arrivée sur marmiton\n"
     ]
    }
   ],
   "source": [
    "browser.get('https://www.marmiton.org')\n",
    "print('Arrivée sur marmiton')"
   ]
  },
  {
   "cell_type": "code",
   "execution_count": null,
   "id": "9845b772-a648-4dc7-a8d5-f94dab79295d",
   "metadata": {},
   "outputs": [],
   "source": [
    "## 3. Gestion des cookies"
   ]
  },
  {
   "cell_type": "code",
   "execution_count": 32,
   "id": "de38d2d4-6c13-4357-8294-bd3890107554",
   "metadata": {},
   "outputs": [
    {
     "name": "stdout",
     "output_type": "stream",
     "text": [
      "Entrée sur marmiton réussie \n",
      "\n"
     ]
    }
   ],
   "source": [
    "from selenium.webdriver.common.by import By\n",
    "from selenium.common.exceptions import NoSuchElementException, WebDriverException\n",
    "try : \n",
    "    popup = browser.find_element(By.ID, \"didomi-notice-agree-button\")\n",
    "    popup.click()\n",
    "    time.sleep(2)\n",
    "except NoSuchElementException:\n",
    "    pass\n",
    "\n",
    "\n",
    "print(\"Entrée sur marmiton réussie \\n\")"
   ]
  },
  {
   "cell_type": "code",
   "execution_count": null,
   "id": "c7ab090e-8b9a-433d-9c3a-8f5121218cf7",
   "metadata": {},
   "outputs": [],
   "source": [
    "## 4. Recherche de recettes pour un ingrédient donné"
   ]
  },
  {
   "cell_type": "code",
   "execution_count": null,
   "id": "faf9d390-c8f4-4620-baf7-22b56a3bda62",
   "metadata": {},
   "outputs": [],
   "source": [
    "# 4.1. On recherche l'ingrédient choisi dans la barre de recherche du site"
   ]
  },
  {
   "cell_type": "code",
   "execution_count": 8,
   "id": "0ae784ad-fe18-495e-9eeb-22cb179eb6ce",
   "metadata": {},
   "outputs": [
    {
     "name": "stdout",
     "output_type": "stream",
     "text": [
      "<selenium.webdriver.remote.webelement.WebElement (session=\"09aa4b2080f78835e845fa81d45590b4\", element=\"8D4C9A00547787E1A636F1033F25B4F5_element_28\")>\n",
      "recettes trouvées\n"
     ]
    }
   ],
   "source": [
    "search = browser.find_element(\"name\", \"aqt\")\n",
    "print(search)\n",
    "\n",
    "search.send_keys(\"farine\")\n",
    "\n",
    "search.send_keys(Keys.RETURN)\n",
    "time.sleep(1)\n",
    "print(\"recettes trouvées\")"
   ]
  },
  {
   "cell_type": "code",
   "execution_count": null,
   "id": "f0315220-f598-4e33-abe7-cc0cacf8a87e",
   "metadata": {},
   "outputs": [],
   "source": [
    "# 4.2. On résupère l'URL de la page présentant les résultats de la recherche"
   ]
  },
  {
   "cell_type": "code",
   "execution_count": 10,
   "id": "61a3e6eb-c465-47b1-8e6a-28a86179d795",
   "metadata": {},
   "outputs": [
    {
     "name": "stdout",
     "output_type": "stream",
     "text": [
      "https://www.marmiton.org/recettes/recherche.aspx?aqt=farine\n"
     ]
    }
   ],
   "source": [
    "url = browser.current_url\n",
    "print(url)"
   ]
  },
  {
   "cell_type": "code",
   "execution_count": null,
   "id": "4d33230d-308f-4d3f-858d-c142adc6c098",
   "metadata": {},
   "outputs": [],
   "source": [
    "# 4.3. On récupère les url des pages correspondant aux différentes recettes trouvées"
   ]
  },
  {
   "cell_type": "code",
   "execution_count": null,
   "id": "1dcaa0ae-fa16-4e6a-badf-2cf8ccc02446",
   "metadata": {},
   "outputs": [],
   "source": [
    "# 4.3.1 Grâce au xpahth, on récupère les url des recettes trouvées"
   ]
  },
  {
   "cell_type": "code",
   "execution_count": 17,
   "id": "1635c7b1-4f55-429b-937d-d2d535ff735d",
   "metadata": {},
   "outputs": [
    {
     "name": "stdout",
     "output_type": "stream",
     "text": [
      "Requirement already satisfied: lxml in /opt/mamba/lib/python3.10/site-packages (4.9.4)\n",
      "/recettes/recettes-incontournables.aspx\n",
      "/recettes/recette_gateau-moelleux-a-la-farine-de-chataigne_85864.aspx\n",
      "/recettes/recette_tortillas-recette-sans-farine-de-mais_40389.aspx\n",
      "/recettes/recette_gateau-au-chocolat-sans-farine-et-sans-beurre_17669.aspx\n",
      "/recettes/recette_cake-a-la-farine-de-chataigne_13766.aspx\n",
      "/recettes/recette_moelleux-au-chocolat-sans-gluten-farine-de-riz_42417.aspx\n",
      "/recettes/recette_besan-paratha-beignets-a-la-farine-de-pois-chiches-inde_15796.aspx\n",
      "/recettes/recette_gateau-de-farine-de-chataigne-noisettes-et-chocolat_17184.aspx\n",
      "/recettes/recette_cake-farine-complete-jambon-gruyere_37981.aspx\n",
      "/recettes/recette_gateau-aux-pommes-a-la-farine-de-chataigne_54688.aspx\n",
      "/recettes/recette_gateau-au-chocolat-fondant-sans-farine_30347.aspx\n",
      "/recettes/recette_gateau-au-yaourt-aux-3-farines_42407.aspx\n",
      "/recettes/recette_gateau-a-l-orange-et-poudre-d-amande-sans-farine_371165.aspx\n"
     ]
    }
   ],
   "source": [
    "import urllib3\n",
    "http = urllib3.PoolManager()\n",
    "r= http.request('GET', url)\n",
    "# si on veut : print(r.data)\n",
    "\n",
    "!pip install lxml \n",
    "from lxml import html\n",
    "\n",
    "data_string = r.data.decode('utf-8', errors = 'ignore')\n",
    "tree = html.fromstring(data_string)\n",
    "\n",
    "links = tree.xpath('//a')\n",
    "for link in links:\n",
    "    l = link.get('href')\n",
    "    if l.startswith('/recettes/recette'):\n",
    "        print(l)"
   ]
  },
  {
   "cell_type": "code",
   "execution_count": null,
   "id": "9bb70e2c-7ab4-47b0-aebc-75d7cfba2cb0",
   "metadata": {},
   "outputs": [],
   "source": [
    "# 4.3.2. On crée une liste avec les url correspondant à chacune des recettes trouvées"
   ]
  },
  {
   "cell_type": "code",
   "execution_count": 33,
   "id": "fc8385a6-a370-48c1-981d-3f9ea424c160",
   "metadata": {},
   "outputs": [
    {
     "name": "stdout",
     "output_type": "stream",
     "text": [
      "['https://www.marmiton.org/recettes/recettes-incontournables.aspx', 'https://www.marmiton.org/recettes/recette_gateau-moelleux-a-la-farine-de-chataigne_85864.aspx', 'https://www.marmiton.org/recettes/recette_tortillas-recette-sans-farine-de-mais_40389.aspx', 'https://www.marmiton.org/recettes/recette_gateau-au-chocolat-sans-farine-et-sans-beurre_17669.aspx', 'https://www.marmiton.org/recettes/recette_cake-a-la-farine-de-chataigne_13766.aspx', 'https://www.marmiton.org/recettes/recette_moelleux-au-chocolat-sans-gluten-farine-de-riz_42417.aspx', 'https://www.marmiton.org/recettes/recette_besan-paratha-beignets-a-la-farine-de-pois-chiches-inde_15796.aspx', 'https://www.marmiton.org/recettes/recette_gateau-de-farine-de-chataigne-noisettes-et-chocolat_17184.aspx', 'https://www.marmiton.org/recettes/recette_cake-farine-complete-jambon-gruyere_37981.aspx', 'https://www.marmiton.org/recettes/recette_gateau-aux-pommes-a-la-farine-de-chataigne_54688.aspx', 'https://www.marmiton.org/recettes/recette_gateau-au-chocolat-fondant-sans-farine_30347.aspx', 'https://www.marmiton.org/recettes/recette_gateau-au-yaourt-aux-3-farines_42407.aspx', 'https://www.marmiton.org/recettes/recette_gateau-a-l-orange-et-poudre-d-amande-sans-farine_371165.aspx']\n"
     ]
    }
   ],
   "source": [
    "liste_recettes = []\n",
    "for link in links:\n",
    "    l = link.get('href')\n",
    "    if l.startswith('/recettes/recette'):\n",
    "        url_recette = 'https://www.marmiton.org'+l\n",
    "        liste_recettes.append(url_recette)\n",
    "print(liste_recettes)"
   ]
  },
  {
   "cell_type": "code",
   "execution_count": null,
   "id": "2857e336-c000-4d98-80be-ab7a5cf52506",
   "metadata": {},
   "outputs": [],
   "source": [
    "# 4.4. On récupère les recettes grâce aux url trouvées"
   ]
  },
  {
   "cell_type": "code",
   "execution_count": 34,
   "id": "1d99de39-c5c4-4566-bebc-72c54c9199c2",
   "metadata": {},
   "outputs": [
    {
     "name": "stdout",
     "output_type": "stream",
     "text": [
      "<Response [200]>\n",
      "<Response [200]>\n",
      "<Response [200]>\n",
      "<Response [200]>\n",
      "<Response [200]>\n",
      "<Response [200]>\n",
      "<Response [200]>\n",
      "<Response [200]>\n",
      "<Response [200]>\n",
      "<Response [200]>\n",
      "<Response [200]>\n",
      "<Response [200]>\n",
      "<Response [200]>\n"
     ]
    }
   ],
   "source": [
    "import requests\n",
    "\n",
    "for recette in liste_recettes:\n",
    "    print(requests.get(recette))"
   ]
  },
  {
   "cell_type": "code",
   "execution_count": null,
   "id": "b04b9439-7b39-4651-b15a-32dd99678634",
   "metadata": {},
   "outputs": [],
   "source": [
    "# On récupère les ingrédients"
   ]
  },
  {
   "cell_type": "code",
   "execution_count": 65,
   "id": "cea30197-5cb8-4225-b639-9f73175c74f8",
   "metadata": {},
   "outputs": [
    {
     "name": "stdout",
     "output_type": "stream",
     "text": [
      "1 pincée\n",
      "de sel\n",
      "1 bonne cuillère à café\n",
      "d' extrait de vanille liquide\n",
      "1 sachet\n",
      "de levure chimique\n",
      "10 cl\n",
      "d' huile\n",
      "180 g\n",
      "de sucre blanc ou sucre de canne\n",
      "160 g\n",
      "de farine de châtaigne\n",
      "10 cl\n",
      "de lait\n",
      "4\n",
      "oeufs\n",
      "5 cl\n",
      "d' eau de vie ou de rhum\n",
      "1 cuillère à café rase\n",
      "de sel\n",
      "5 cl\n",
      "d' huile de tournesol\n",
      "250 g\n",
      "de farine de blé (+ 1 ou 2 cuillère pour le plan de travail)\n",
      "13 cl\n",
      "d' eau tiède salée\n",
      "100 g\n",
      "de sucre\n",
      "2 tablettes\n",
      "de chocolat à croquer\n",
      "4\n",
      "oeufs\n",
      "100 g\n",
      "d' amandes en poudre\n",
      "1 pincée\n",
      "de sel\n",
      "0.5 paquet\n",
      "de levure chimique\n",
      "rhum\n",
      "vanille\n",
      "zeste\n",
      "d' orange\n",
      "150 g\n",
      "de sucre glace\n",
      "180 g\n",
      "de beurre\n",
      "150 g\n",
      "de farine de châtaigne\n",
      "3\n",
      "oeufs\n",
      "100 g\n",
      "de raisins secs\n",
      "25 g\n",
      "de noisettes hachées\n",
      "25 g\n",
      "d' amandes hachées\n",
      "zeste\n",
      "de citron\n",
      "70 g\n",
      "de beurre\n",
      "70 g\n",
      "de sucre\n",
      "200 g\n",
      "de chocolat noir\n",
      "70 g\n",
      "de farine de riz\n",
      "4\n",
      "oeufs\n",
      "180 g\n",
      "de chocolat\n",
      "200 g\n",
      "de crème fraîche liquide\n",
      "huile de friture\n",
      "sel\n",
      "1\n",
      "oignon moyen haché\n",
      "1.5 cuillère à café\n",
      "de thym\n",
      "0.25 botte\n",
      "de coriandre hachée\n",
      "2 cuillères à soupe\n",
      "de farine de blé\n",
      "3 cuillères à soupe\n",
      "de farine de pois chiches\n",
      "1\n",
      "oeuf\n",
      "eau froide (l'eau gazeuse donne une certaine légèreté)\n",
      "10 g\n",
      "de beurre (ou huile pour graisser le moule)\n",
      "100 g\n",
      "de noix\n",
      "5 cuillères à soupe\n",
      "d' huile\n",
      "150 g\n",
      "de sucre\n",
      "11 g\n",
      "de levure chimique\n",
      "1 pincée\n",
      "de sel\n",
      "50 g\n",
      "de farine blanche\n",
      "150 g\n",
      "de farine de châtaigne\n",
      "4\n",
      "oeufs entiers\n",
      "5 cuillères à soupe\n",
      "de lait\n",
      "100 g\n",
      "de noisettes\n",
      "100 g\n",
      "de nappage chocolat\n",
      "100 g\n",
      "de gruyère râpé\n",
      "muscade\n",
      "0.5 cuillère à café\n",
      "de poivre\n",
      "0.5 cuillère à café\n",
      "de sel\n",
      "2 cuillères à soupe\n",
      "de moutarde\n",
      "10 cl\n",
      "d' huile d'olive\n",
      "1 sachet\n",
      "de levure\n",
      "200 g\n",
      "de farine complète\n",
      "10 cl\n",
      "de lait\n",
      "3\n",
      "oeufs\n",
      "200 g\n",
      "de jambon\n",
      "1\n",
      "rhum agricole\n",
      "75 g\n",
      "de beurre fondu\n",
      "1 cuillère à café\n",
      "de sucre vanillé\n",
      "1 sachet\n",
      "de levure chimique\n",
      "200 g\n",
      "de sucre\n",
      "150 g\n",
      "de farine de blé\n",
      "50 g\n",
      "de farine de châtaigne\n",
      "2\n",
      "oeufs\n",
      "2\n",
      "pommes\n",
      "125 g\n",
      "de sucre\n",
      "60 g\n",
      "de beurre\n",
      "200 g\n",
      "de crème dessert au chocolat\n",
      "6\n",
      "oeufs (jaunes et blancs séparés)\n",
      "2 sachets\n",
      "de sucre vanillé\n",
      "1 sachet\n",
      "de levure chimique\n",
      "1 pot\n",
      "d' huile\n",
      "2 pots\n",
      "de sucre ou de cassonade\n",
      "1 pot\n",
      "de farine blanche\n",
      "1 pot\n",
      "de yaourt utilisé précedemment) de farine complète\n",
      "1\n",
      "yaourt (brassé de préférence)\n",
      "3\n",
      "oeufs\n",
      "1 pot\n",
      "de farine de châtaigne\n",
      "1 sachet\n",
      "de levure chimique (sans gluten)\n",
      "200 g\n",
      "de sucre\n",
      "65 g\n",
      "de beurre\n",
      "2\n",
      "oranges\n",
      "5\n",
      "oeufs\n",
      "150 g\n",
      "d' amandes en poudre\n"
     ]
    }
   ],
   "source": [
    "for recette in liste_recettes:\n",
    "    browser.get(recette)\n",
    "    liste_ingredients = browser.find_elements(By.CLASS_NAME, 'card-ingredient')\n",
    "    for ingredient in liste_ingredients:\n",
    "        print(ingredient.text)"
   ]
  },
  {
   "cell_type": "code",
   "execution_count": null,
   "id": "81ebed14-f3b9-485c-91d5-c52490befbaf",
   "metadata": {},
   "outputs": [],
   "source": [
    "# Capture d'écran pour voir où on en est (je comprends pas l'erreur)"
   ]
  },
  {
   "cell_type": "code",
   "execution_count": 12,
   "id": "4cfb0ad6-af9d-429d-a0d0-48639b482b79",
   "metadata": {},
   "outputs": [
    {
     "name": "stderr",
     "output_type": "stream",
     "text": [
      "/usr/bin/xdg-open: 882: www-browser: not found\n",
      "/usr/bin/xdg-open: 882: links2: not found\n",
      "/usr/bin/xdg-open: 882: elinks: not found\n",
      "/usr/bin/xdg-open: 882: links: not found\n",
      "/usr/bin/xdg-open: 882: lynx: not found\n",
      "/usr/bin/xdg-open: 882: w3m: not found\n",
      "xdg-open: no method available for opening '/tmp/tmpcmqesoyf.PNG'\n"
     ]
    }
   ],
   "source": [
    "from PIL import Image\n",
    "\n",
    "browser.save_screenshot('ss.png')\n",
    "screenshot = Image.open('ss.png')\n",
    "screenshot.show()"
   ]
  },
  {
   "cell_type": "code",
   "execution_count": null,
   "id": "eff0884e-1ec4-4b39-b975-b1ae3b3cf294",
   "metadata": {},
   "outputs": [],
   "source": [
    "# On termine la recherche"
   ]
  },
  {
   "cell_type": "code",
   "execution_count": null,
   "id": "204bf30e-29cb-4726-9dea-4f350f7149f9",
   "metadata": {},
   "outputs": [],
   "source": [
    "browser.quit()"
   ]
  }
 ],
 "metadata": {
  "kernelspec": {
   "display_name": "Python 3 (ipykernel)",
   "language": "python",
   "name": "python3"
  },
  "language_info": {
   "codemirror_mode": {
    "name": "ipython",
    "version": 3
   },
   "file_extension": ".py",
   "mimetype": "text/x-python",
   "name": "python",
   "nbconvert_exporter": "python",
   "pygments_lexer": "ipython3",
   "version": "3.10.13"
  }
 },
 "nbformat": 4,
 "nbformat_minor": 5
}
