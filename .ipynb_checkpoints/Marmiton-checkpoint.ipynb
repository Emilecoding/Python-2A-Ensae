{
 "cells": [
  {
   "cell_type": "code",
   "execution_count": null,
   "id": "985b9dc6-f18c-4e79-9ca1-327fe9ac8b02",
   "metadata": {},
   "outputs": [],
   "source": [
    "## Installer Selenium"
   ]
  },
  {
   "cell_type": "code",
   "execution_count": null,
   "id": "8cf390a6-8102-49a6-939d-c5e000e24f36",
   "metadata": {},
   "outputs": [],
   "source": [
    "## Installation des dépendances"
   ]
  },
  {
   "cell_type": "code",
   "execution_count": 2,
   "id": "3dd5d8b6-3a16-4896-841b-545a0de2b4f3",
   "metadata": {},
   "outputs": [
    {
     "name": "stdout",
     "output_type": "stream",
     "text": [
      "--2023-12-27 10:38:27--  https://dl.google.com/linux/direct/google-chrome-stable_current_amd64.deb\n",
      "Resolving dl.google.com (dl.google.com)... 64.233.167.91, 64.233.167.190, 64.233.167.136, ...\n",
      "Connecting to dl.google.com (dl.google.com)|64.233.167.91|:443... connected.\n",
      "HTTP request sent, awaiting response... 200 OK\n",
      "Length: 104953176 (100M) [application/x-debian-package]\n",
      "Saving to: ‘/tmp/chrome.deb’\n",
      "\n",
      "/tmp/chrome.deb     100%[===================>] 100.09M  57.4MB/s    in 1.7s    \n",
      "\n",
      "2023-12-27 10:38:29 (57.4 MB/s) - ‘/tmp/chrome.deb’ saved [104953176/104953176]\n",
      "\n",
      "Get:1 http://security.ubuntu.com/ubuntu jammy-security InRelease [110 kB]\n",
      "Hit:2 https://dl.google.com/linux/chrome/deb stable InRelease                  \n",
      "Hit:3 https://apt.postgresql.org/pub/repos/apt jammy-pgdg InRelease            \n",
      "Hit:4 http://archive.ubuntu.com/ubuntu jammy InRelease                         \n",
      "Get:5 http://archive.ubuntu.com/ubuntu jammy-updates InRelease [119 kB]\n",
      "Hit:6 http://archive.ubuntu.com/ubuntu jammy-backports InRelease\n",
      "Fetched 229 kB in 1s (206 kB/s)\n",
      "Reading package lists... Done\n",
      "W: https://apt.postgresql.org/pub/repos/apt/dists/jammy-pgdg/InRelease: Key is stored in legacy trusted.gpg keyring (/etc/apt/trusted.gpg), see the DEPRECATION section in apt-key(8) for details.\n",
      "Reading package lists... Done\n",
      "Building dependency tree... Done\n",
      "Reading state information... Done\n",
      "Note, selecting 'google-chrome-stable' instead of '/tmp/chrome.deb'\n",
      "google-chrome-stable is already the newest version (120.0.6099.129-1).\n",
      "0 upgraded, 0 newly installed, 0 to remove and 2 not upgraded.\n",
      "Requirement already satisfied: chromedriver-autoinstaller in /opt/mamba/lib/python3.10/site-packages (0.6.3)\n",
      "Requirement already satisfied: selenium in /opt/mamba/lib/python3.10/site-packages (4.16.0)\n",
      "Requirement already satisfied: packaging>=23.1 in /opt/mamba/lib/python3.10/site-packages (from chromedriver-autoinstaller) (23.1)\n",
      "Requirement already satisfied: urllib3<3,>=1.26 in /opt/mamba/lib/python3.10/site-packages (from urllib3[socks]<3,>=1.26->selenium) (1.26.18)\n",
      "Requirement already satisfied: trio~=0.17 in /opt/mamba/lib/python3.10/site-packages (from selenium) (0.23.2)\n",
      "Requirement already satisfied: trio-websocket~=0.9 in /opt/mamba/lib/python3.10/site-packages (from selenium) (0.11.1)\n",
      "Requirement already satisfied: certifi>=2021.10.8 in /opt/mamba/lib/python3.10/site-packages (from selenium) (2023.11.17)\n",
      "Requirement already satisfied: attrs>=20.1.0 in /opt/mamba/lib/python3.10/site-packages (from trio~=0.17->selenium) (23.1.0)\n",
      "Requirement already satisfied: sortedcontainers in /opt/mamba/lib/python3.10/site-packages (from trio~=0.17->selenium) (2.4.0)\n",
      "Requirement already satisfied: idna in /opt/mamba/lib/python3.10/site-packages (from trio~=0.17->selenium) (3.4)\n",
      "Requirement already satisfied: outcome in /opt/mamba/lib/python3.10/site-packages (from trio~=0.17->selenium) (1.3.0.post0)\n",
      "Requirement already satisfied: sniffio>=1.3.0 in /opt/mamba/lib/python3.10/site-packages (from trio~=0.17->selenium) (1.3.0)\n",
      "Requirement already satisfied: exceptiongroup in /opt/mamba/lib/python3.10/site-packages (from trio~=0.17->selenium) (1.2.0)\n",
      "Requirement already satisfied: wsproto>=0.14 in /opt/mamba/lib/python3.10/site-packages (from trio-websocket~=0.9->selenium) (1.2.0)\n",
      "Requirement already satisfied: PySocks!=1.5.7,<2.0,>=1.5.6 in /opt/mamba/lib/python3.10/site-packages (from urllib3[socks]<3,>=1.26->selenium) (1.7.1)\n",
      "Requirement already satisfied: h11<1,>=0.9.0 in /opt/mamba/lib/python3.10/site-packages (from wsproto>=0.14->trio-websocket~=0.9->selenium) (0.14.0)\n"
     ]
    },
    {
     "data": {
      "text/plain": [
       "'/opt/mamba/lib/python3.10/site-packages/chromedriver_autoinstaller/120/chromedriver'"
      ]
     },
     "execution_count": 2,
     "metadata": {},
     "output_type": "execute_result"
    }
   ],
   "source": [
    "!wget https://dl.google.com/linux/direct/google-chrome-stable_current_amd64.deb -O /tmp/chrome.deb\n",
    "!sudo apt-get update\n",
    "!sudo -E apt-get install -y /tmp/chrome.deb\n",
    "!pip install chromedriver-autoinstaller selenium\n",
    "\n",
    "import chromedriver_autoinstaller\n",
    "chromedriver_autoinstaller.install()"
   ]
  },
  {
   "cell_type": "code",
   "execution_count": null,
   "id": "ede94b88-88c2-45a4-b87d-504f1a3a5e5e",
   "metadata": {},
   "outputs": [],
   "source": [
    "## Installation de Selenium"
   ]
  },
  {
   "cell_type": "code",
   "execution_count": 3,
   "id": "b4835a16-9cb8-4046-a51e-287618d5920e",
   "metadata": {},
   "outputs": [
    {
     "name": "stdout",
     "output_type": "stream",
     "text": [
      "Requirement already satisfied: webdriver-manager in /opt/mamba/lib/python3.10/site-packages (4.0.1)\n",
      "Requirement already satisfied: requests in /opt/mamba/lib/python3.10/site-packages (from webdriver-manager) (2.31.0)\n",
      "Requirement already satisfied: python-dotenv in /opt/mamba/lib/python3.10/site-packages (from webdriver-manager) (1.0.0)\n",
      "Requirement already satisfied: packaging in /opt/mamba/lib/python3.10/site-packages (from webdriver-manager) (23.1)\n",
      "Requirement already satisfied: charset-normalizer<4,>=2 in /opt/mamba/lib/python3.10/site-packages (from requests->webdriver-manager) (3.2.0)\n",
      "Requirement already satisfied: idna<4,>=2.5 in /opt/mamba/lib/python3.10/site-packages (from requests->webdriver-manager) (3.4)\n",
      "Requirement already satisfied: urllib3<3,>=1.21.1 in /opt/mamba/lib/python3.10/site-packages (from requests->webdriver-manager) (1.26.18)\n",
      "Requirement already satisfied: certifi>=2017.4.17 in /opt/mamba/lib/python3.10/site-packages (from requests->webdriver-manager) (2023.11.17)\n"
     ]
    }
   ],
   "source": [
    "!pip install webdriver-manager\n",
    "\n",
    "import selenium\n",
    "from webdriver_manager.chrome import ChromeDriverManager\n",
    "\n",
    "path_to_web_driver = ChromeDriverManager().install()"
   ]
  },
  {
   "cell_type": "code",
   "execution_count": null,
   "id": "63cf5f5d-f36e-4e20-97ea-27471eb0bb94",
   "metadata": {},
   "outputs": [],
   "source": [
    "## Initialisation du navigateur"
   ]
  },
  {
   "cell_type": "code",
   "execution_count": 4,
   "id": "108f8543-4735-433c-821b-09950d7f081e",
   "metadata": {},
   "outputs": [],
   "source": [
    "import time\n",
    "\n",
    "from selenium import webdriver\n",
    "from selenium.webdriver.common.keys import Keys\n",
    "\n",
    "chrome_options = webdriver.ChromeOptions()\n",
    "chrome_options.add_argument('--headless')\n",
    "chrome_options.add_argument('--no-sandbox')\n",
    "chrome_options.add_argument('--disable-dev-shm-usage')\n",
    "#chrome_options.add_argument('--verbose') "
   ]
  },
  {
   "cell_type": "code",
   "execution_count": null,
   "id": "39fcb965-33e5-4f37-9d94-839c7ae65874",
   "metadata": {},
   "outputs": [],
   "source": [
    "## Lancement du navigateur"
   ]
  },
  {
   "cell_type": "code",
   "execution_count": 5,
   "id": "01ac0df3-6d40-4583-ab3a-92f0c28ab8eb",
   "metadata": {},
   "outputs": [],
   "source": [
    "from selenium.webdriver.chrome.service import Service\n",
    "service = Service(executable_path=path_to_web_driver)\n",
    "\n",
    "browser = webdriver.Chrome(service=service,\n",
    "                           options=chrome_options)"
   ]
  },
  {
   "cell_type": "code",
   "execution_count": null,
   "id": "e384e844-536a-4e2a-9064-ec5abf287cc6",
   "metadata": {},
   "outputs": [],
   "source": [
    "## Aller sur le site que l'on souhaite et effectuer la recherche de mots clés"
   ]
  },
  {
   "cell_type": "code",
   "execution_count": 6,
   "id": "3473fa98-4d6a-403c-90cc-c8cacc2f827c",
   "metadata": {},
   "outputs": [
    {
     "name": "stdout",
     "output_type": "stream",
     "text": [
      "on the website\n"
     ]
    }
   ],
   "source": [
    "# On se connecte à marmiton et on initialise l'output à un dictionnaire vide \n",
    "output = {}\n",
    "browser.get('https://www.marmiton.org')\n",
    "print('on the website')"
   ]
  },
  {
   "cell_type": "code",
   "execution_count": 7,
   "id": "de38d2d4-6c13-4357-8294-bd3890107554",
   "metadata": {},
   "outputs": [
    {
     "name": "stdout",
     "output_type": "stream",
     "text": [
      "Entrée sur marmiton réussie \n",
      "\n"
     ]
    }
   ],
   "source": [
    "# Quand on arrive sur la page, il y a un popup nous demandant d'accepter les cookies \n",
    "from selenium.webdriver.common.by import By\n",
    "from selenium.common.exceptions import NoSuchElementException, WebDriverException\n",
    "try : \n",
    "    popup = browser.find_element(By.ID, \"didomi-notice-agree-button\")\n",
    "    popup.click()\n",
    "    time.sleep(2)\n",
    "except NoSuchElementException:\n",
    "    pass\n",
    "\n",
    "\n",
    "print(\"Entrée sur marmiton réussie \\n\")"
   ]
  },
  {
   "cell_type": "code",
   "execution_count": null,
   "id": "c7ab090e-8b9a-433d-9c3a-8f5121218cf7",
   "metadata": {},
   "outputs": [],
   "source": [
    "# On mime ensuite la recherche que pourrait faire un utilisateur intenet"
   ]
  },
  {
   "cell_type": "code",
   "execution_count": 8,
   "id": "0ae784ad-fe18-495e-9eeb-22cb179eb6ce",
   "metadata": {},
   "outputs": [
    {
     "name": "stdout",
     "output_type": "stream",
     "text": [
      "<selenium.webdriver.remote.webelement.WebElement (session=\"09aa4b2080f78835e845fa81d45590b4\", element=\"8D4C9A00547787E1A636F1033F25B4F5_element_28\")>\n",
      "recettes trouvées\n"
     ]
    }
   ],
   "source": [
    "search = browser.find_element(\"name\", \"aqt\")\n",
    "print(search)\n",
    "\n",
    "search.send_keys(\"farine\")\n",
    "\n",
    "search.send_keys(Keys.RETURN)\n",
    "time.sleep(1)\n",
    "print(\"recettes trouvées\")"
   ]
  },
  {
   "cell_type": "code",
   "execution_count": null,
   "id": "4d94b03a-2b38-45b1-add6-48b7162c8012",
   "metadata": {},
   "outputs": [],
   "source": [
    "# Essayer de récupérer le xpath avec un clic droit (pas fini)\n",
    "# La liste de recettes est vide, je comprends pas pourquoi"
   ]
  },
  {
   "cell_type": "code",
   "execution_count": 9,
   "id": "83ede720-0548-46b9-a0d4-91a1e943077b",
   "metadata": {},
   "outputs": [
    {
     "name": "stdout",
     "output_type": "stream",
     "text": [
      "[<selenium.webdriver.remote.webelement.WebElement (session=\"09aa4b2080f78835e845fa81d45590b4\", element=\"A137FDCF3E311A039A7311DB7F5170F4_element_73\")>]\n"
     ]
    },
    {
     "ename": "AttributeError",
     "evalue": "move_to requires a WebElement",
     "output_type": "error",
     "traceback": [
      "\u001b[0;31m---------------------------------------------------------------------------\u001b[0m",
      "\u001b[0;31mAttributeError\u001b[0m                            Traceback (most recent call last)",
      "Cell \u001b[0;32mIn[9], line 7\u001b[0m\n\u001b[1;32m      4\u001b[0m recettes \u001b[38;5;241m=\u001b[39m browser\u001b[38;5;241m.\u001b[39mfind_elements(By\u001b[38;5;241m.\u001b[39mXPATH, \u001b[38;5;124m'\u001b[39m\u001b[38;5;124m/html/body/div[2]/div[3]/main/div/div[2]/div[1]/div[1]/div[3]\u001b[39m\u001b[38;5;124m'\u001b[39m)\n\u001b[1;32m      5\u001b[0m \u001b[38;5;28mprint\u001b[39m(recettes)\n\u001b[0;32m----> 7\u001b[0m \u001b[43maction\u001b[49m\u001b[38;5;241;43m.\u001b[39;49m\u001b[43mcontext_click\u001b[49m\u001b[43m(\u001b[49m\u001b[43mrecettes\u001b[49m\u001b[43m)\u001b[49m\u001b[38;5;241m.\u001b[39mperform() \n\u001b[1;32m      8\u001b[0m time\u001b[38;5;241m.\u001b[39msleep(\u001b[38;5;241m1\u001b[39m)\n",
      "File \u001b[0;32m/opt/mamba/lib/python3.10/site-packages/selenium/webdriver/common/action_chains.py:142\u001b[0m, in \u001b[0;36mActionChains.context_click\u001b[0;34m(self, on_element)\u001b[0m\n\u001b[1;32m    135\u001b[0m \u001b[38;5;250m\u001b[39m\u001b[38;5;124;03m\"\"\"Performs a context-click (right click) on an element.\u001b[39;00m\n\u001b[1;32m    136\u001b[0m \n\u001b[1;32m    137\u001b[0m \u001b[38;5;124;03m:Args:\u001b[39;00m\n\u001b[1;32m    138\u001b[0m \u001b[38;5;124;03m - on_element: The element to context-click.\u001b[39;00m\n\u001b[1;32m    139\u001b[0m \u001b[38;5;124;03m   If None, clicks on current mouse position.\u001b[39;00m\n\u001b[1;32m    140\u001b[0m \u001b[38;5;124;03m\"\"\"\u001b[39;00m\n\u001b[1;32m    141\u001b[0m \u001b[38;5;28;01mif\u001b[39;00m on_element:\n\u001b[0;32m--> 142\u001b[0m     \u001b[38;5;28;43mself\u001b[39;49m\u001b[38;5;241;43m.\u001b[39;49m\u001b[43mmove_to_element\u001b[49m\u001b[43m(\u001b[49m\u001b[43mon_element\u001b[49m\u001b[43m)\u001b[49m\n\u001b[1;32m    144\u001b[0m \u001b[38;5;28mself\u001b[39m\u001b[38;5;241m.\u001b[39mw3c_actions\u001b[38;5;241m.\u001b[39mpointer_action\u001b[38;5;241m.\u001b[39mcontext_click()\n\u001b[1;32m    145\u001b[0m \u001b[38;5;28mself\u001b[39m\u001b[38;5;241m.\u001b[39mw3c_actions\u001b[38;5;241m.\u001b[39mkey_action\u001b[38;5;241m.\u001b[39mpause()\n",
      "File \u001b[0;32m/opt/mamba/lib/python3.10/site-packages/selenium/webdriver/common/action_chains.py:253\u001b[0m, in \u001b[0;36mActionChains.move_to_element\u001b[0;34m(self, to_element)\u001b[0m\n\u001b[1;32m    246\u001b[0m \u001b[38;5;28;01mdef\u001b[39;00m \u001b[38;5;21mmove_to_element\u001b[39m(\u001b[38;5;28mself\u001b[39m, to_element: WebElement) \u001b[38;5;241m-\u001b[39m\u001b[38;5;241m>\u001b[39m ActionChains:\n\u001b[1;32m    247\u001b[0m \u001b[38;5;250m    \u001b[39m\u001b[38;5;124;03m\"\"\"Moving the mouse to the middle of an element.\u001b[39;00m\n\u001b[1;32m    248\u001b[0m \n\u001b[1;32m    249\u001b[0m \u001b[38;5;124;03m    :Args:\u001b[39;00m\n\u001b[1;32m    250\u001b[0m \u001b[38;5;124;03m     - to_element: The WebElement to move to.\u001b[39;00m\n\u001b[1;32m    251\u001b[0m \u001b[38;5;124;03m    \"\"\"\u001b[39;00m\n\u001b[0;32m--> 253\u001b[0m     \u001b[38;5;28;43mself\u001b[39;49m\u001b[38;5;241;43m.\u001b[39;49m\u001b[43mw3c_actions\u001b[49m\u001b[38;5;241;43m.\u001b[39;49m\u001b[43mpointer_action\u001b[49m\u001b[38;5;241;43m.\u001b[39;49m\u001b[43mmove_to\u001b[49m\u001b[43m(\u001b[49m\u001b[43mto_element\u001b[49m\u001b[43m)\u001b[49m\n\u001b[1;32m    254\u001b[0m     \u001b[38;5;28mself\u001b[39m\u001b[38;5;241m.\u001b[39mw3c_actions\u001b[38;5;241m.\u001b[39mkey_action\u001b[38;5;241m.\u001b[39mpause()\n\u001b[1;32m    256\u001b[0m     \u001b[38;5;28;01mreturn\u001b[39;00m \u001b[38;5;28mself\u001b[39m\n",
      "File \u001b[0;32m/opt/mamba/lib/python3.10/site-packages/selenium/webdriver/common/actions/pointer_actions.py:88\u001b[0m, in \u001b[0;36mPointerActions.move_to\u001b[0;34m(self, element, x, y, width, height, pressure, tangential_pressure, tilt_x, tilt_y, twist, altitude_angle, azimuth_angle)\u001b[0m\n\u001b[1;32m     72\u001b[0m \u001b[38;5;28;01mdef\u001b[39;00m \u001b[38;5;21mmove_to\u001b[39m(\n\u001b[1;32m     73\u001b[0m     \u001b[38;5;28mself\u001b[39m,\n\u001b[1;32m     74\u001b[0m     element,\n\u001b[0;32m   (...)\u001b[0m\n\u001b[1;32m     85\u001b[0m     azimuth_angle\u001b[38;5;241m=\u001b[39m\u001b[38;5;28;01mNone\u001b[39;00m,\n\u001b[1;32m     86\u001b[0m ):\n\u001b[1;32m     87\u001b[0m     \u001b[38;5;28;01mif\u001b[39;00m \u001b[38;5;129;01mnot\u001b[39;00m \u001b[38;5;28misinstance\u001b[39m(element, WebElement):\n\u001b[0;32m---> 88\u001b[0m         \u001b[38;5;28;01mraise\u001b[39;00m \u001b[38;5;167;01mAttributeError\u001b[39;00m(\u001b[38;5;124m\"\u001b[39m\u001b[38;5;124mmove_to requires a WebElement\u001b[39m\u001b[38;5;124m\"\u001b[39m)\n\u001b[1;32m     90\u001b[0m     \u001b[38;5;28mself\u001b[39m\u001b[38;5;241m.\u001b[39msource\u001b[38;5;241m.\u001b[39mcreate_pointer_move(\n\u001b[1;32m     91\u001b[0m         origin\u001b[38;5;241m=\u001b[39melement,\n\u001b[1;32m     92\u001b[0m         duration\u001b[38;5;241m=\u001b[39m\u001b[38;5;28mself\u001b[39m\u001b[38;5;241m.\u001b[39m_duration,\n\u001b[0;32m   (...)\u001b[0m\n\u001b[1;32m    103\u001b[0m         azimuth_angle\u001b[38;5;241m=\u001b[39mazimuth_angle,\n\u001b[1;32m    104\u001b[0m     )\n\u001b[1;32m    105\u001b[0m     \u001b[38;5;28;01mreturn\u001b[39;00m \u001b[38;5;28mself\u001b[39m\n",
      "\u001b[0;31mAttributeError\u001b[0m: move_to requires a WebElement"
     ]
    }
   ],
   "source": [
    "from selenium.webdriver import ActionChains\n",
    "action = ActionChains(browser)\n",
    "\n",
    "recettes = browser.find_elements(By.XPATH, '/html/body/div[2]/div[3]/main/div/div[2]/div[1]/div[1]/div[3]')\n",
    "print(recettes)\n",
    "\n",
    "action.context_click(recettes).perform() \n",
    "time.sleep(1)"
   ]
  },
  {
   "cell_type": "code",
   "execution_count": null,
   "id": "f0315220-f598-4e33-abe7-cc0cacf8a87e",
   "metadata": {},
   "outputs": [],
   "source": [
    "# On résupère l'URL de la page sur laquelle on est arrivé"
   ]
  },
  {
   "cell_type": "code",
   "execution_count": 10,
   "id": "61a3e6eb-c465-47b1-8e6a-28a86179d795",
   "metadata": {},
   "outputs": [
    {
     "name": "stdout",
     "output_type": "stream",
     "text": [
      "https://www.marmiton.org/recettes/recherche.aspx?aqt=farine\n"
     ]
    }
   ],
   "source": [
    "url = browser.current_url\n",
    "print(url)"
   ]
  },
  {
   "cell_type": "code",
   "execution_count": null,
   "id": "4d33230d-308f-4d3f-858d-c142adc6c098",
   "metadata": {},
   "outputs": [],
   "source": [
    "# Code qui permet de récupérer les url de toutes les branches d'un xpath donné \n",
    "# (https://www.sales-hacking.com/post/collecter-des-donnees-avec-python)"
   ]
  },
  {
   "cell_type": "code",
   "execution_count": null,
   "id": "f1cf339b-3329-4aa0-be83-2ef406e0a48c",
   "metadata": {},
   "outputs": [],
   "source": [
    "# On obtient des url en output \n",
    "# MAIS je pense qu'il en manque/qu'il y en a en trop\n",
    "# Là j'ai mis l'url de la page une fois qu'on avait cherché 'farine', il faudrait réussir à récupérer l'url de la page une fois qu'on a fait la recherche\n",
    "# Donc récupérer l'url de la page où on est au moment de \"recettes trouvées\""
   ]
  },
  {
   "cell_type": "code",
   "execution_count": 11,
   "id": "1635c7b1-4f55-429b-937d-d2d535ff735d",
   "metadata": {},
   "outputs": [
    {
     "name": "stdout",
     "output_type": "stream",
     "text": [
      "Requirement already satisfied: lxml in /opt/mamba/lib/python3.10/site-packages (4.9.4)\n",
      "/\n",
      "/espace-perso/mon-carnet-de-recettes.aspx\n",
      "/my-profile/edit\n",
      "/reloaded/users/logout\n",
      "/recettes/index/categorie/aperitif-ou-buffet?rcp=0\n",
      "/recettes/index/categorie/entree?rcp=0\n",
      "/recettes/index/categorie/plat-principal?rcp=0\n",
      "/recettes/index/categorie/dessert?rcp=0\n",
      "/recettes?type=boisson\n",
      "/cuisine-facile/petits-dejeuners-et-brunchs-tp124705.html\n",
      "/qu-est-ce-qu-on-mange-ce-soir-sc29.html\n",
      "/recettes/menu-de-la-semaine.aspx\n",
      "/mieux-cuisiner/recette-de-saison-tp124490.html\n",
      "/recettes/selections.aspx\n",
      "/recettes/index/ingredient\n",
      "/recettes/top-internautes.aspx\n",
      "/recettes/recettes-incontournables.aspx\n",
      "/recettes/nouveautes.aspx\n",
      "/cuisine-rapide/actus-food-tp123982.html\n",
      "/cuisine-rapide/tendance-tp121939.html\n",
      "/mieux-cuisiner/mieux-manger-tp125264.html\n",
      "/mieux-acheter/shopping-ssc20.html?utm_source=website&utm_medium=shopping_menu&utm_campaign=all_sous_categorie\n",
      "/sp/bon-plan/toutes-nos-offres.html?utm_source=website&utm_medium=shopping_menu&utm_campaign=promo_sous_categorie\n",
      "/sp/velux/passion-food.html\n",
      "/pratique/table-conversion.aspx\n",
      "/recettes\n",
      "/recettes/videos-ssc49.html\n",
      "/trucs-et-astuces/astuces-de-cuisine-tp133284.html\n",
      "/forum/\n",
      "https://marmitest.marmiton.org/\n",
      "https://www.marmiton.org/Prix-Marmiton-2023/prix-marmiton-2023-tp186800.html\n",
      "https://www.marmiton.org/dossier-noel\n",
      "https://www.marmiton.org/cuisine-rapide/rapide-tp123527.html\n",
      "/cuisine-rapide/actus-food-tp123982.html\n",
      "/mieux-cuisiner/mieux-manger-tp125264.html\n",
      "https://www.marmiton.org/prix-marmiton-2023/prix-marmiton-2023-tp186800.html\n",
      "/recettes/recette_gateau-moelleux-a-la-farine-de-chataigne_85864.aspx\n",
      "/recettes/recette_tortillas-recette-sans-farine-de-mais_40389.aspx\n",
      "/recettes/recette_gateau-au-chocolat-sans-farine-et-sans-beurre_17669.aspx\n",
      "/recettes/recette_cake-a-la-farine-de-chataigne_13766.aspx\n",
      "/recettes/recette_moelleux-au-chocolat-sans-gluten-farine-de-riz_42417.aspx\n",
      "/recettes/recette_besan-paratha-beignets-a-la-farine-de-pois-chiches-inde_15796.aspx\n",
      "/recettes/recette_gateau-de-farine-de-chataigne-noisettes-et-chocolat_17184.aspx\n",
      "/recettes/recette_cake-farine-complete-jambon-gruyere_37981.aspx\n",
      "/recettes/recette_gateau-aux-pommes-a-la-farine-de-chataigne_54688.aspx\n",
      "/recettes/recette_gateau-au-chocolat-fondant-sans-farine_30347.aspx\n",
      "/recettes/recette_gateau-au-yaourt-aux-3-farines_42407.aspx\n",
      "/recettes/recette_gateau-a-l-orange-et-poudre-d-amande-sans-farine_371165.aspx\n",
      "/recettes/recherche.aspx?aqt=farine&page=2\n",
      "/recettes/recherche.aspx?aqt=farine&page=3\n",
      "/recettes/recherche.aspx?aqt=farine&page=4\n",
      "/recettes/recherche.aspx?aqt=farine&page=5\n",
      "/recettes/recherche.aspx?aqt=farine&page=6\n",
      "/recettes/recherche.aspx?aqt=farine&page=7\n",
      "/recettes/recherche.aspx?aqt=farine&page=8\n",
      "/recettes/recherche.aspx?aqt=farine&page=9\n",
      "/recettes/recherche.aspx?aqt=farine&page=10\n",
      "/recettes/recherche.aspx?aqt=farine&page=20\n",
      "/recettes/recherche.aspx?aqt=farine&page=30\n",
      "/recettes/recherche.aspx?aqt=farine&page=40\n",
      "/recettes/recherche.aspx?aqt=farine&page=50\n",
      "/recettes/recherche.aspx?aqt=farine&page=60\n",
      "/recettes/recherche.aspx?aqt=farine&page=70\n",
      "/recettes/recherche.aspx?aqt=farine&page=80\n",
      "/recettes/recherche.aspx?aqt=farine&page=84\n",
      "/reloaded/newsletter/subscribe\n",
      "https://fr.pinterest.com/marmiton/\n",
      "https://www.facebook.com/marmiton\n",
      "https://www.instagram.com/marmiton_org/\n",
      "https://www.youtube.com/user/marmitonofficiel\n",
      "https://assistant.google.com/services/invoke/uid/00000058f69ad4c0\n",
      "http://m.onelink.me/b78587d4\n",
      "javascript:showCmpPreferencesPopup()\n",
      "https://marmiton.welcomekit.co/\n",
      "https://www.marmiton.org/sp/aide/mentions-legales.html\n",
      "https://www.marmiton.org/sp/aide/conditions-generales-utilisation.html\n",
      "https://www.marmiton.org/sp/legal/conditions_generales_abonnement.html\n",
      "/contact\n",
      "https://www.marmiton.org/aide/faq-foire-aux-questions-s4005514.html\n",
      "https://www.marmiton.org/sp/aide/politque-de-protection-des-donnees-personnelles.html\n",
      "https://www.marmiton.org/sp/aide/faq-protection-des-donnees-personnelles.html#NotDisplayCmp\n",
      "http://www.1001cocktails.com\n"
     ]
    }
   ],
   "source": [
    "import urllib3\n",
    "http = urllib3.PoolManager()\n",
    "r= http.request('GET', url)\n",
    "# si on veut : print(r.data)\n",
    "\n",
    "!pip install lxml \n",
    "from lxml import html\n",
    "\n",
    "data_string = r.data.decode('utf-8', errors = 'ignore')\n",
    "tree = html.fromstring(data_string)\n",
    "\n",
    "links = tree.xpath('//a')\n",
    "for link in links:\n",
    "    print(link.get('href'))"
   ]
  },
  {
   "cell_type": "code",
   "execution_count": null,
   "id": "81ebed14-f3b9-485c-91d5-c52490befbaf",
   "metadata": {},
   "outputs": [],
   "source": [
    "# Capture d'écran pour voir où on en est (je comprends pas l'erreur)"
   ]
  },
  {
   "cell_type": "code",
   "execution_count": 12,
   "id": "4cfb0ad6-af9d-429d-a0d0-48639b482b79",
   "metadata": {},
   "outputs": [
    {
     "name": "stderr",
     "output_type": "stream",
     "text": [
      "/usr/bin/xdg-open: 882: www-browser: not found\n",
      "/usr/bin/xdg-open: 882: links2: not found\n",
      "/usr/bin/xdg-open: 882: elinks: not found\n",
      "/usr/bin/xdg-open: 882: links: not found\n",
      "/usr/bin/xdg-open: 882: lynx: not found\n",
      "/usr/bin/xdg-open: 882: w3m: not found\n",
      "xdg-open: no method available for opening '/tmp/tmpcmqesoyf.PNG'\n"
     ]
    }
   ],
   "source": [
    "from PIL import Image\n",
    "\n",
    "browser.save_screenshot('ss.png')\n",
    "screenshot = Image.open('ss.png')\n",
    "screenshot.show()"
   ]
  },
  {
   "cell_type": "code",
   "execution_count": null,
   "id": "858ba5eb-69c5-4bc4-a9e1-3428b2d4f5ac",
   "metadata": {},
   "outputs": [],
   "source": [
    "# On extrait les recettes trouvées (fonctionnne pas)"
   ]
  },
  {
   "cell_type": "code",
   "execution_count": 13,
   "id": "ba7aec09-c000-44a3-b09b-19464cdb4b97",
   "metadata": {},
   "outputs": [
    {
     "ename": "NameError",
     "evalue": "name 'elt' is not defined",
     "output_type": "error",
     "traceback": [
      "\u001b[0;31m---------------------------------------------------------------------------\u001b[0m",
      "\u001b[0;31mNameError\u001b[0m                                 Traceback (most recent call last)",
      "Cell \u001b[0;32mIn[13], line 1\u001b[0m\n\u001b[0;32m----> 1\u001b[0m recettes \u001b[38;5;241m=\u001b[39m [elt\u001b[38;5;241m.\u001b[39mget_attribute(\u001b[38;5;124m\"\u001b[39m\u001b[38;5;124mhref\u001b[39m\u001b[38;5;124m\"\u001b[39m) \u001b[38;5;28;01mfor\u001b[39;00m x \u001b[38;5;129;01min\u001b[39;00m browser\u001b[38;5;241m.\u001b[39mfind_elements(By\u001b[38;5;241m.\u001b[39mXPATH,\u001b[38;5;124m\"\u001b[39m\u001b[38;5;124m/html/body/div[2]/div[3]/main/div/div[2]/div[1]/div[1]/div[3]\u001b[39m\u001b[38;5;124m\"\u001b[39m)]\n\u001b[1;32m      2\u001b[0m \u001b[38;5;28mprint\u001b[39m(recettes)\n",
      "Cell \u001b[0;32mIn[13], line 1\u001b[0m, in \u001b[0;36m<listcomp>\u001b[0;34m(.0)\u001b[0m\n\u001b[0;32m----> 1\u001b[0m recettes \u001b[38;5;241m=\u001b[39m [\u001b[43melt\u001b[49m\u001b[38;5;241m.\u001b[39mget_attribute(\u001b[38;5;124m\"\u001b[39m\u001b[38;5;124mhref\u001b[39m\u001b[38;5;124m\"\u001b[39m) \u001b[38;5;28;01mfor\u001b[39;00m x \u001b[38;5;129;01min\u001b[39;00m browser\u001b[38;5;241m.\u001b[39mfind_elements(By\u001b[38;5;241m.\u001b[39mXPATH,\u001b[38;5;124m\"\u001b[39m\u001b[38;5;124m/html/body/div[2]/div[3]/main/div/div[2]/div[1]/div[1]/div[3]\u001b[39m\u001b[38;5;124m\"\u001b[39m)]\n\u001b[1;32m      2\u001b[0m \u001b[38;5;28mprint\u001b[39m(recettes)\n",
      "\u001b[0;31mNameError\u001b[0m: name 'elt' is not defined"
     ]
    }
   ],
   "source": [
    "recettes = [elt.get_attribute(\"href\") for x in browser.find_elements(By.XPATH,\"/html/body/div[2]/div[3]/main/div/div[2]/div[1]/div[1]/div[3]\")]\n",
    "print(recettes)"
   ]
  },
  {
   "cell_type": "code",
   "execution_count": 14,
   "id": "3f9670a6-209b-4a1a-9c72-6094472703e2",
   "metadata": {},
   "outputs": [
    {
     "name": "stdout",
     "output_type": "stream",
     "text": [
      "[<selenium.webdriver.remote.webelement.WebElement (session=\"09aa4b2080f78835e845fa81d45590b4\", element=\"A137FDCF3E311A039A7311DB7F5170F4_element_73\")>]\n"
     ]
    }
   ],
   "source": [
    "recettes = browser.find_elements(By.XPATH, '/html/body/div[2]/div[3]/main/div/div[2]/div[1]/div[1]/div[3]')\n",
    "print(recettes) "
   ]
  },
  {
   "cell_type": "code",
   "execution_count": 15,
   "id": "64d80f66-d53e-45d3-a31a-ab48c0dc9385",
   "metadata": {},
   "outputs": [
    {
     "name": "stdout",
     "output_type": "stream",
     "text": [
      "[]\n"
     ]
    }
   ],
   "source": [
    "menu = browser.find_elements(By.ID, 'https://www.marmiton.org/recettes/recherche.aspx?aqt=farine')\n",
    "print(menu)"
   ]
  },
  {
   "cell_type": "code",
   "execution_count": null,
   "id": "a7a6946f-9216-4838-a083-b087a116150f",
   "metadata": {},
   "outputs": [],
   "source": [
    "# On termine la recherche"
   ]
  },
  {
   "cell_type": "code",
   "execution_count": null,
   "id": "204bf30e-29cb-4726-9dea-4f350f7149f9",
   "metadata": {},
   "outputs": [],
   "source": [
    "browser.quit()"
   ]
  }
 ],
 "metadata": {
  "kernelspec": {
   "display_name": "Python 3 (ipykernel)",
   "language": "python",
   "name": "python3"
  },
  "language_info": {
   "codemirror_mode": {
    "name": "ipython",
    "version": 3
   },
   "file_extension": ".py",
   "mimetype": "text/x-python",
   "name": "python",
   "nbconvert_exporter": "python",
   "pygments_lexer": "ipython3",
   "version": "3.10.13"
  }
 },
 "nbformat": 4,
 "nbformat_minor": 5
}
